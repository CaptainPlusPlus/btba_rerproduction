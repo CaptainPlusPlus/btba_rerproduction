{
 "cells": [
  {
   "metadata": {},
   "cell_type": "markdown",
   "source": "# Creating and optimizng the BTBA Tranformer model",
   "id": "8fb6792d38e3dcae"
  },
  {
   "metadata": {},
   "cell_type": "markdown",
   "source": [
    "## Preprocessing data\n",
    "Using Ro<->En, De<->En and Fr<->En datasets from https://github.com/lilt/alignment-scripts/tree/master to compare with other works.\n",
    "Preprocessed as described in the repository, and used here under /data"
   ],
   "id": "7af20a2db79d1c4c"
  },
  {
   "metadata": {},
   "cell_type": "markdown",
   "source": [
    "## Masking input\n",
    "\n",
    "* 10% of the data is masked (at least one word per sentence).\n",
    "* Every token is masked exactly once. \n",
    "* masking sentences is done on the fly in every epoch.\n",
    "* Following Och and Ney (2003), <bos> token is added at the beginning of source sentence for target words without alignments in source."
   ],
   "id": "70b0169edca70368"
  },
  {
   "metadata": {
    "ExecuteTime": {
     "end_time": "2024-04-14T21:01:41.525703Z",
     "start_time": "2024-04-14T21:01:41.523231Z"
    }
   },
   "cell_type": "code",
   "source": [
    "# Masking Dependencies\n",
    "import random\n",
    "import itertools"
   ],
   "id": "8e1da11417ca6a6f",
   "outputs": [],
   "execution_count": 14
  },
  {
   "metadata": {
    "ExecuteTime": {
     "end_time": "2024-04-14T21:02:30.260346Z",
     "start_time": "2024-04-14T21:02:30.256316Z"
    }
   },
   "cell_type": "code",
   "source": [
    "def apply_mask(sentence, mask_index, mask_token=\"<x>\"):\n",
    "    \"\"\" Replace word at specified index with mask token. \"\"\"\n",
    "    words = sentence.strip().split()\n",
    "    words[mask_index] = mask_token\n",
    "    \n",
    "    return ' '.join(words)\n",
    "\n",
    "def generate_masked_sentences(sentence, mask_token=\"<x>\"):\n",
    "    \"\"\" Generate permutations of sentence with mask token. \"\"\"\n",
    "    words = sentence.strip().split()\n",
    "    num_words = len(words)\n",
    "\n",
    "    indices = list(range(num_words))\n",
    "    random.shuffle(indices)\n",
    "\n",
    "    # Distribute masked indices evenly with into at most 10 sets.\n",
    "    num_sets = min(num_words, 10)\n",
    "    for i in range(num_sets):\n",
    "        current_indices = indices[i::num_sets]\n",
    "        if not current_indices:\n",
    "            continue\n",
    "        masked_sentence = words[:]\n",
    "        for index in current_indices:\n",
    "            masked_sentence[index] = mask_token\n",
    "        yield ' '.join(masked_sentence)"
   ],
   "id": "initial_id",
   "outputs": [
    {
     "name": "stdout",
     "output_type": "stream",
     "text": [
      "<x> is a test sentence for demonstrating the <x> function with <x> complexity. mikmak mikamkiamdifmsalfkjslkdfjdslkj sdjflkds jdjdj jdj dj dj djdjd dj dj dj djdj d d dj dj\n",
      "This <x> a test sentence for demonstrating the masking function with enough complexity. mikmak mikamkiamdifmsalfkjslkdfjdslkj sdjflkds jdjdj jdj dj dj djdjd dj dj dj djdj <x> d dj <x>\n",
      "This is a test <x> for <x> the masking function <x> enough complexity. mikmak mikamkiamdifmsalfkjslkdfjdslkj sdjflkds jdjdj jdj dj dj djdjd dj dj dj djdj d d dj dj\n",
      "This is a test sentence for demonstrating the masking function with enough complexity. mikmak mikamkiamdifmsalfkjslkdfjdslkj <x> jdjdj jdj dj dj djdjd <x> dj dj djdj d <x> dj dj\n",
      "This is a test sentence for demonstrating the masking <x> with enough complexity. mikmak <x> sdjflkds jdjdj jdj dj dj djdjd dj <x> dj djdj d d dj dj\n",
      "This is a test sentence for demonstrating <x> masking function with enough <x> mikmak mikamkiamdifmsalfkjslkdfjdslkj sdjflkds <x> jdj dj dj djdjd dj dj dj djdj d d dj dj\n",
      "This is a test sentence for demonstrating the masking function with enough complexity. mikmak mikamkiamdifmsalfkjslkdfjdslkj sdjflkds jdjdj jdj <x> dj djdjd dj dj dj <x> d d <x> dj\n",
      "This is a test sentence for demonstrating the masking function with enough complexity. <x> mikamkiamdifmsalfkjslkdfjdslkj sdjflkds jdjdj jdj dj dj <x> dj dj <x> djdj d d dj dj\n",
      "This is <x> <x> sentence <x> demonstrating the masking function with enough complexity. mikmak mikamkiamdifmsalfkjslkdfjdslkj sdjflkds jdjdj jdj dj dj djdjd dj dj dj djdj d d dj dj\n",
      "This is a test sentence for demonstrating the masking function with enough complexity. mikmak mikamkiamdifmsalfkjslkdfjdslkj sdjflkds jdjdj <x> dj <x> djdjd dj dj dj djdj d d dj dj\n"
     ]
    }
   ],
   "execution_count": 16
  },
  {
   "metadata": {
    "ExecuteTime": {
     "end_time": "2024-04-14T20:36:46.661573Z",
     "start_time": "2024-04-14T20:36:46.643932Z"
    }
   },
   "cell_type": "code",
   "source": "",
   "id": "9d8ca0bc16d245df",
   "outputs": [
    {
     "ename": "TypeError",
     "evalue": "'str' object is not callable",
     "output_type": "error",
     "traceback": [
      "\u001B[0;31m---------------------------------------------------------------------------\u001B[0m",
      "\u001B[0;31mTypeError\u001B[0m                                 Traceback (most recent call last)",
      "Cell \u001B[0;32mIn[9], line 2\u001B[0m\n\u001B[1;32m      1\u001B[0m sentence_stam \u001B[38;5;241m=\u001B[39m \u001B[38;5;124m\"\u001B[39m\u001B[38;5;124myoko karayoko kaka pee pee poop\u001B[39m\u001B[38;5;124m\"\u001B[39m\n\u001B[0;32m----> 2\u001B[0m attempt \u001B[38;5;241m=\u001B[39m \u001B[38;5;28;43mlist\u001B[39;49m\u001B[43m(\u001B[49m\u001B[43mgenerate_masked_sentences\u001B[49m\u001B[43m(\u001B[49m\u001B[43msentence_stam\u001B[49m\u001B[43m)\u001B[49m\u001B[43m)\u001B[49m[:\u001B[38;5;241m10\u001B[39m]\n",
      "Cell \u001B[0;32mIn[8], line 15\u001B[0m, in \u001B[0;36mgenerate_masked_sentences\u001B[0;34m(sentence, mask_token)\u001B[0m\n\u001B[1;32m     13\u001B[0m masked_sentence \u001B[38;5;241m=\u001B[39m sentence\n\u001B[1;32m     14\u001B[0m \u001B[38;5;28;01mfor\u001B[39;00m index \u001B[38;5;129;01min\u001B[39;00m indices_to_mask:\n\u001B[0;32m---> 15\u001B[0m     masked_sentence \u001B[38;5;241m=\u001B[39m \u001B[43mmask_token\u001B[49m\u001B[43m(\u001B[49m\u001B[43mmasked_sentence\u001B[49m\u001B[43m,\u001B[49m\u001B[43m \u001B[49m\u001B[43mindex\u001B[49m\u001B[43m,\u001B[49m\u001B[43m \u001B[49m\u001B[43mmask_token\u001B[49m\u001B[43m)\u001B[49m\n\u001B[1;32m     16\u001B[0m \u001B[38;5;28;01myield\u001B[39;00m masked_sentence\n",
      "\u001B[0;31mTypeError\u001B[0m: 'str' object is not callable"
     ]
    }
   ],
   "execution_count": 9
  },
  {
   "metadata": {},
   "cell_type": "code",
   "outputs": [],
   "execution_count": null,
   "source": "",
   "id": "dae36055148238e7"
  }
 ],
 "metadata": {
  "kernelspec": {
   "display_name": "Python 3",
   "language": "python",
   "name": "python3"
  },
  "language_info": {
   "codemirror_mode": {
    "name": "ipython",
    "version": 2
   },
   "file_extension": ".py",
   "mimetype": "text/x-python",
   "name": "python",
   "nbconvert_exporter": "python",
   "pygments_lexer": "ipython2",
   "version": "2.7.6"
  }
 },
 "nbformat": 4,
 "nbformat_minor": 5
}
